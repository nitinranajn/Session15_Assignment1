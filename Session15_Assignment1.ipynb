{
 "cells": [
  {
   "cell_type": "markdown",
   "metadata": {},
   "source": [
    "Problem Statement 1:\n",
    "You survey households in your area to find the average rent they are paying. Find the\n",
    "standard deviation from the following data:\n",
    "$1550, $1700, $900, $850, $1000, $950.\n",
    "Problem Statement 2:\n",
    "Find the variance for the following set of data representing trees in California (heights in\n",
    "feet):\n",
    "3, 21, 98, 203, 17, 9\n",
    "Problem Statement 3:\n",
    "In a class on 100 students, 80 students passed in all subjects, 10 failed in one subject, 7\n",
    "failed in two subjects and 3 failed in three subjects. Find the probability distribution of\n",
    "the variable for number of subjects a student from the given class has failed in."
   ]
  },
  {
   "cell_type": "code",
   "execution_count": 15,
   "metadata": {},
   "outputs": [
    {
     "name": "stdout",
     "output_type": "stream",
     "text": [
      "Calculation using formula\n",
      "Mean =   1158.3333333333333\n",
      "variance =  135416.6666666667\n",
      "std_dev  367.99003609699366\n",
      "\n",
      "Calculation using statistics library\n",
      "Mean =  1158.3333333333333\n",
      "Variance =  135416.66666666666\n",
      "std_dev =  367.9900360969936\n"
     ]
    }
   ],
   "source": [
    "# Problem Statement 1:\n",
    "# You survey households in your area to find the average rent they are paying. \n",
    "# Find the standard deviation from the following data:\n",
    "# $1550, $1700, $900, $850, $1000, $950.\n",
    "import statistics as stat \n",
    "from math import sqrt \n",
    "\n",
    "lst = [1550,1700,900,850,1000,950]\n",
    "\n",
    "\n",
    "def mean(data): \n",
    "    return sum(data)/len(data) \n",
    " \n",
    "\n",
    "def variance(data): \n",
    "    variance = 0.0    \n",
    "    mean1 = mean(data) \n",
    "    variance = sum((x - mean1)**2 for x in data) / (len(data)-1) \n",
    "    return variance \n",
    " \n",
    "def std_dev(data): \n",
    "    return variance(data)**0.5 \n",
    " \n",
    "print(\"Calculation using formula\") \n",
    "print (\"Mean =  \" , mean(lst)) \n",
    "print (\"variance = \" , variance(lst)) \n",
    "print(\"std_dev \", std_dev(lst)) \n",
    "\n",
    "print(\"\\nCalculation using statistics library\") \n",
    "print(\"Mean = \" , stat.mean(lst))\n",
    "print(\"Variance = \", stat.variance(lst)) \n",
    "print(\"std_dev = \", stat.stdev(lst)) "
   ]
  },
  {
   "cell_type": "code",
   "execution_count": 13,
   "metadata": {},
   "outputs": [
    {
     "data": {
      "text/plain": [
       "1158.3333333333333"
      ]
     },
     "execution_count": 13,
     "metadata": {},
     "output_type": "execute_result"
    }
   ],
   "source": [
    "import statistics as stat\n",
    "data = [1550,1700,900,850,1000,950]\n",
    "men=stat.mean(data)\n",
    "men"
   ]
  },
  {
   "cell_type": "code",
   "execution_count": 16,
   "metadata": {},
   "outputs": [
    {
     "name": "stdout",
     "output_type": "stream",
     "text": [
      "\n",
      "Calculation using statistics library\n",
      "Mean =  58.5\n",
      "Variance =  6219.9\n"
     ]
    }
   ],
   "source": [
    "# Problem Statement 2:\n",
    "# Find the variance for the following set of data representing trees in California (heights in feet):\n",
    "# 3, 21, 98, 203, 17, 9\n",
    "import statistics as stat\n",
    "\n",
    "lst = [3, 21, 98, 203, 17, 9]\n",
    "print(\"\\nCalculation using statistics library\") \n",
    "print(\"Mean = \" , stat.mean(lst))\n",
    "print(\"Variance = \", stat.variance(lst)) \n",
    "\n"
   ]
  },
  {
   "cell_type": "code",
   "execution_count": 19,
   "metadata": {},
   "outputs": [
    {
     "name": "stdout",
     "output_type": "stream",
     "text": [
      "prob_of_students_passed_in_ALL_paper =  0.8\n",
      "prob_of_students_failed_in_1_paper =  0.1\n",
      "prob_of_students_failed_in_2_paper =  0.07\n",
      "prob_of_students_failed_in_3_paper =  0.03\n"
     ]
    }
   ],
   "source": [
    "# Problem Statement 3:\n",
    "# In a class on 100 students, 80 students passed in all subjects, 10 failed in one subject, 7\n",
    "# failed in two subjects and 3 failed in three subjects. Find the probability distribution of\n",
    "# the variable for number of subjects a student from the given class has failed in.\n",
    "\n",
    "# Solution:\n",
    "\n",
    "import numpy as np  \n",
    " \n",
    "no_of_students=[80,10,7,3] \n",
    "prob_of_students_passed_in_ALL_paper =no_of_students[0]/sum(no_of_students)\n",
    "prob_of_students_failed_in_1_paper =no_of_students[1]/sum(no_of_students)\n",
    "prob_of_students_failed_in_2_paper =no_of_students[2]/sum(no_of_students)\n",
    "prob_of_students_failed_in_3_paper =no_of_students[3]/sum(no_of_students)\n",
    "\n",
    "print(\"prob_of_students_passed_in_ALL_paper = \",prob_of_students_passed_in_ALL_paper)\n",
    "print(\"prob_of_students_failed_in_1_paper = \",prob_of_students_failed_in_1_paper)\n",
    "print(\"prob_of_students_failed_in_2_paper = \",prob_of_students_failed_in_2_paper)\n",
    "print(\"prob_of_students_failed_in_3_paper = \",prob_of_students_failed_in_3_paper)\n"
   ]
  },
  {
   "cell_type": "code",
   "execution_count": null,
   "metadata": {},
   "outputs": [],
   "source": []
  }
 ],
 "metadata": {
  "kernelspec": {
   "display_name": "Python 3",
   "language": "python",
   "name": "python3"
  },
  "language_info": {
   "codemirror_mode": {
    "name": "ipython",
    "version": 3
   },
   "file_extension": ".py",
   "mimetype": "text/x-python",
   "name": "python",
   "nbconvert_exporter": "python",
   "pygments_lexer": "ipython3",
   "version": "3.7.0"
  }
 },
 "nbformat": 4,
 "nbformat_minor": 2
}
